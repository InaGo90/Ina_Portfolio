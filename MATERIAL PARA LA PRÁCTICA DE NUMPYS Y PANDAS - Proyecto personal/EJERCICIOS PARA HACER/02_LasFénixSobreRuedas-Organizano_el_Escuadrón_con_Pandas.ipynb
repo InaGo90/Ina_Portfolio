{
 "cells": [
  {
   "cell_type": "markdown",
   "id": "22932814",
   "metadata": {},
   "source": [
    "# Las Fénix Sobre Ruedas\n",
    "## 🐼 Organizando el Escuadrón con PandasMisión 02: Organizando el Escuadrón con Pandas"
   ]
  },
  {
   "cell_type": "markdown",
   "id": "102091db",
   "metadata": {},
   "source": [
    "### 📝 **MEMORÁNDUM CONFIDENCIAL**\n",
    "\n",
    "\n",
    "**PARA:** Nuestra Analista de Datos Estrella\n",
    "\n",
    "**DE:** Isabel \"La Centella\" Montero, Entrenadora Principal, Las Fénix Sobre Ruedas\n",
    "\n",
    "**ASUNTO:** Necesito Claridad en el Equipo... ¡Y Detectar Patrones!\n",
    "\n",
    "Analista,\n",
    "\n",
    "El trabajo con NumPy nos dio una primera visión de los números, pero ahora necesito que demos un paso más allá. Quiero que uses **Pandas** para organizar toda la información en una estructura clara, como una tabla de mandos. Esto nos permitirá ver no solo las cifras, sino también los nombres, las fechas, los comentarios... todo en su sitio. Pandas es una biblioteca de Python especializada en el manejo y análisis de estructuras de datos.\n",
    "\n",
    "He estado revisando los informes preliminares y, aunque los números generales del equipo son aceptables, tengo la sensación de que hay **algunas dinámicas internas y rendimientos individuales que quiero que empecemos a observar con más detalle**. Es importante que te familiarices bien con las herramientas de selección y filtrado de Pandas.\n",
    "\n",
    "**Tu misión con Pandas (el DataFrame ya estará cargado para ti):**\n",
    "1.  **Inspección General:** Familiarízate con el DataFrame `df_fenix` que ya hemos cargado: dimensiones (`.shape`), información general (`.info()`), primeras/últimas filas (`.head()`, `.tail()`), nombres de columnas (`.columns`), tipos de datos (`.dtypes`).\n",
    "2.  **Tipos de Datos Adecuados:** Asegúrate de que cada columna tenga el tipo de dato correcto. Presta especial atención a `Fecha_Sesion` (a `datetime`) y a las columnas numéricas que puedan estar como `object`. Límpialas y conviértelas a numéricas.\n",
    "3.  **Selección de Columnas y Filas:** Practica la selección de datos usando los nombres de columna y los métodos `iloc` y `loc`.\n",
    "4.  **Filtrado por Condiciones:** Realiza algunos filtros básicos para seleccionar sesiones que cumplan ciertos criterios.\n",
    "5.  **Nuevas Perspectivas:** Crea la columna `Faltas_Totales`.\n",
    "6.  **Análisis Enfocado (¡Aquí empieza lo interesante!):** Una vez te hayas familiarizado con lo anterior, quiero que apliques esas habilidades de filtrado para examinar más de cerca a \"EstrellaFugaz77\" y \"NovaProdigy21\". Compara sus puntuaciones medias en sesiones clave y revisa sus comentarios.\n",
    "7.  **Informe de Inteligencia Pandas:** Al final, resume los pasos de limpieza y cualquier observación inicial, especialmente sobre esas dos patinadoras.\n",
    "\n",
    "Tenemos que empezar a entender no solo *qué* pasa, sino a *quién* le pasa y *por qué*."
   ]
  },
  {
   "cell_type": "code",
   "execution_count": null,
   "id": "c5e776ef",
   "metadata": {},
   "outputs": [],
   "source": [
    "import pandas as pd\n",
    "import numpy as np # Lo podríamos necesitar para np.nan o alguna conversión\n",
    "\n",
    "# Configuración de Pandas\n",
    "pd.set_option('display.max_columns', None)\n",
    "pd.set_option('display.max_colwidth', None)\n",
    "pd.set_option('display.float_format', lambda x: '%.2f' % x) # Formatear floats a 2 decimales"
   ]
  },
  {
   "cell_type": "code",
   "execution_count": null,
   "id": "c9a7e08c",
   "metadata": {},
   "outputs": [],
   "source": [
    "# ¡Atención Analista! La Centella te ha facilitado este primer paso.\n",
    "# El DataFrame 'rendimiento_fenix.csv' ya está cargado para ti en la variable df_fenix.\n",
    "# ¡Directo a la acción!\n",
    "\n",
    "try:\n",
    "    df_fenix = pd.read_csv('rendimiento_fenix.csv', sep=';') \n",
    "    print(\"DataFrame 'rendimiento_fenix.csv' cargado exitosamente en la variable 'df_fenix'.\")\n",
    "    print(f\"Dimensiones: {df_fenix.shape[0]} filas y {df_fenix.shape[1]} columnas.\") \n",
    "except FileNotFoundError:\n",
    "    print(\"Error CRÍTICO: No se encontró el archivo 'rendimiento_fenix.csv'.\")\n",
    "    print(\"Asegúrate de haber ejecutado 'generador_csv_fenix_v2.py' (y renombrado si es necesario a 'rendimiento_fenix.csv') y que el archivo esté en la ubicación correcta.\")\n",
    "    df_fenix = pd.DataFrame() # Crear un DataFrame vacío para evitar errores si no se carga"
   ]
  },
  {
   "cell_type": "markdown",
   "id": "7d939d60",
   "metadata": {},
   "source": [
    "### 🕵️‍♀️ Tarea 1: Inspección General del DataFrame ⚙️\n",
    "\n",
    "Ahora que `df_fenix` está cargado, vamos a conocer nuestros datos.\n",
    "\n",
    "\"La Centella\" quiere un vistazo general. Vamos a usar algunos métodos básicos de Pandas para entender la estructura y contenido de nuestro DataFrame.\n",
    "\n",
    "**Tu tarea:**\n",
    "* Muestra las primeras 3 filas.\n",
    "* Muestra las últimas 3 filas.\n",
    "* Obtén el nombre de las columnas\n",
    "* Obtén información general del DataFrame (tipos de datos, nulos).\n",
    "* Genera estadísticas descriptivas para las columnas numéricas."
   ]
  },
  {
   "cell_type": "code",
   "execution_count": null,
   "id": "5b2cc746",
   "metadata": {},
   "outputs": [],
   "source": []
  },
  {
   "cell_type": "markdown",
   "id": "d5f3cf82",
   "metadata": {},
   "source": [
    "### 🏷️ (Opcional) Tarea Adicional: Renombrado Estratégico de Columnas\n",
    "\n",
    "Revisa los nombres de las columnas. Si alguna necesita un nombre más claro o práctico para trabajar, este es el momento de usar `.rename()`.\n",
    "\n",
    "*Para este dataset, los nombres deberían ser bastante descriptivos. Realiza esta tarea solo si identificas alguna columna que se beneficiaría de un cambio.*"
   ]
  },
  {
   "cell_type": "code",
   "execution_count": null,
   "id": "a38dd25a",
   "metadata": {},
   "outputs": [],
   "source": [
    "# Renombro la columna"
   ]
  },
  {
   "cell_type": "markdown",
   "id": "17b094d9",
   "metadata": {},
   "source": [
    "------------------------------------------------------------------------------------------------------------------------------------------------------------------"
   ]
  },
  {
   "cell_type": "markdown",
   "id": "9e149ac9",
   "metadata": {},
   "source": [
    "`📝 **Documentación del ejercicio por parte de la alumna**📝:`\n",
    "\n",
    "**\n",
    "**"
   ]
  },
  {
   "cell_type": "markdown",
   "id": "837a22a5",
   "metadata": {},
   "source": [
    "------------------------------------------------------------------------------------------------------------------------------------------------------------------"
   ]
  },
  {
   "cell_type": "markdown",
   "id": "c9e1653b",
   "metadata": {},
   "source": [
    "### 🔧 Tarea 2: Asegurando los Tipos de Datos Correctos\n",
    "\n",
    "Es crucial que cada columna tenga el tipo de dato apropiado para poder realizar análisis correctos. Pandas es flexible y puede manejar una amplia variedad de formatos de datos [661].\n",
    "\n",
    "- `Fecha_Sesion` debe ser de tipo `datetime`. (Es probable que con el batiburrillo que tenemos montado la funcion pd.to_datetime sin más no sea suficiente, pero puedes crear una función teniendo en cuenta esto:\n",
    "\n",
    "        - Formatos_a_probar = [\n",
    "                    '%Y-%m-%d %H:%M:%S',  # Formato estándar: '2024-08-27 19:00:00'\n",
    "                    '%d-%b-%y',          # Formato clave: '16-Sep-24'\n",
    "                    '%d/%m/%Y',          # Formato europeo: '17/09/2024'\n",
    "                    '%B %d, %Y',         # Nombre de mes completo: 'September 03, 2024'\n",
    "                ])\n",
    "        - from pandas import Timestamp\n",
    "\n",
    "- Columnas que deberían ser numéricas pero puedan estar como `object` (ej. `Duracion_Min`, `Pulsaciones_Max_BPM`, `Puntuacion_Rendimiento`, etc.) deben limpiarse (quitar caracteres no numéricos si es simple, como \"bpm\") y convertirse. Utiliza `pd.to_numeric(errors='coerce')` para manejar valores que no se puedan convertir, los cuales se transformarán en `NaN`."
   ]
  },
  {
   "cell_type": "code",
   "execution_count": null,
   "id": "04af9ca8",
   "metadata": {},
   "outputs": [],
   "source": [
    "# Convierto Fecha_Sesion en datetime (¿Pierdo muchisimos datos?)\n",
    "\n"
   ]
  },
  {
   "cell_type": "code",
   "execution_count": null,
   "id": "14e5fcaf",
   "metadata": {},
   "outputs": [],
   "source": [
    "\n",
    "# 4. \n",
    "\n",
    "# 5. \n",
    "\n",
    "# 6. \n"
   ]
  },
  {
   "cell_type": "code",
   "execution_count": null,
   "id": "df811b5d",
   "metadata": {},
   "outputs": [],
   "source": [
    "# "
   ]
  },
  {
   "cell_type": "code",
   "execution_count": null,
   "id": "964f74fc",
   "metadata": {},
   "outputs": [],
   "source": [
    "#"
   ]
  },
  {
   "cell_type": "markdown",
   "id": "4384373b",
   "metadata": {},
   "source": [
    "------------------------------------------------------------------------------------------------------------------------------------------------------------------"
   ]
  },
  {
   "cell_type": "markdown",
   "id": "fb163bc8",
   "metadata": {},
   "source": [
    "`📝 **Documentación del ejercicio por parte de la alumna**📝:`\n",
    "\n",
    "**\n",
    "**"
   ]
  },
  {
   "cell_type": "markdown",
   "id": "bcd70429",
   "metadata": {},
   "source": [
    "------------------------------------------------------------------------------------------------------------------------------------------------------------------"
   ]
  },
  {
   "cell_type": "markdown",
   "id": "05d28f29",
   "metadata": {},
   "source": [
    "### 🎯 Tarea 3: Selección de Columnas y Filas (`loc` e `iloc`)\n",
    "\n",
    "Practicaremos cómo acceder a partes específicas de nuestro DataFrame. `loc` se usa para acceder por etiquetas y `iloc` por posición numérica.\n",
    "\n",
    "**Instrucciones:**\n",
    "1.  Selecciona y muestra solo la columna `Alias_Patinadora`. ¿Qué tipo de estructura de Pandas es?\n",
    "2.  Selecciona y muestra las columnas `Alias_Patinadora`, `Fecha_Sesion` y `Puntuacion_Rendimiento`.\n",
    "3.  Usando `iloc`:\n",
    "    * .a Selecciona y muestra la tercera fila del DataFrame (índice 2).\n",
    "    * .b Selecciona y muestra las filas en las posiciones 10 a 14 (inclusive la 14).\n",
    "    * .c Selecciona y muestra las primeras 3 filas y las primeras 3 columnas.\n",
    "4.  Usando `loc`:\n",
    "    * .a Selecciona y muestra las filas con índice (etiqueta) de 0 a 5 (inclusive la 5).\n",
    "    * .b Selecciona las filas con índice 0 a 5 y solo las columnas `Alias_Patinadora` y `Puntuacion_Rendimiento`."
   ]
  },
  {
   "cell_type": "code",
   "execution_count": null,
   "id": "9cfc0e44",
   "metadata": {},
   "outputs": [],
   "source": [
    "# 1. "
   ]
  },
  {
   "cell_type": "code",
   "execution_count": null,
   "id": "2dddbf4b",
   "metadata": {},
   "outputs": [],
   "source": [
    "# 2."
   ]
  },
  {
   "cell_type": "code",
   "execution_count": null,
   "id": "21127aa5",
   "metadata": {},
   "outputs": [],
   "source": [
    "# 3.a\n",
    "\n",
    "\n",
    "# 3.b\n",
    "\n",
    "\n",
    "# 3.c\n"
   ]
  },
  {
   "cell_type": "markdown",
   "id": "35d711f5",
   "metadata": {},
   "source": [
    "\n",
    "4.  Usando `loc`:\n",
    "    * Selecciona y muestra las filas con índice (etiqueta) de 0 a 5 (inclusive la 5).\n",
    "    * Selecciona las filas con índice 0 a 5 y solo las columnas `Alias_Patinadora` y `Puntuacion_Rendimiento`."
   ]
  },
  {
   "cell_type": "code",
   "execution_count": null,
   "id": "fd15a660",
   "metadata": {},
   "outputs": [],
   "source": [
    "# 4.a\n",
    "\n",
    "\n",
    "# 4.b \n"
   ]
  },
  {
   "cell_type": "markdown",
   "id": "f8186294",
   "metadata": {},
   "source": [
    "------------------------------------------------------------------------------------------------------------------------------------------------------------------"
   ]
  },
  {
   "cell_type": "markdown",
   "id": "c53e0fec",
   "metadata": {},
   "source": [
    "`📝 **Documentación del ejercicio por parte de la alumna**📝:`\n",
    "\n",
    "**\n",
    "**"
   ]
  },
  {
   "cell_type": "markdown",
   "id": "d25e11c6",
   "metadata": {},
   "source": [
    "------------------------------------------------------------------------------------------------------------------------------------------------------------------"
   ]
  },
  {
   "cell_type": "markdown",
   "id": "741052de",
   "metadata": {},
   "source": [
    "### 🚦 Tarea 4: Filtrado por Condiciones\n",
    "\n",
    "Ahora seleccionaremos filas que cumplan criterios específicos. Esto es muy potente para aislar datos de interés.\n",
    "\n",
    "**Instrucciones:**\n",
    "1.  Crea un DataFrame `df_alto_rend` que contenga solo las sesiones donde `Puntuacion_Rendimiento` fue mayor a 8.0. Muestra las primeras 5 filas.\n",
    "2.  Crea un DataFrame `df_descanso_bajo` con las sesiones donde `Horas_Sueño_Previas` fue menor a 6.5. Muestra las primeras 5 filas.\n",
    "3.  Crea un DataFrame `df_cond_combinada` con sesiones donde `Puntuacion_Rendimiento` sea mayor a 7.5 **Y** `Horas_Sueño_Previas` sea mayor o igual a 7. Muestra cuántas sesiones cumplen esto y las primeras 3 filas. Utiliza los operadores lógicos `&` (and) y `|` (or) para combinar condiciones."
   ]
  },
  {
   "cell_type": "code",
   "execution_count": null,
   "id": "eb87669f",
   "metadata": {},
   "outputs": [],
   "source": [
    "#1\n"
   ]
  },
  {
   "cell_type": "code",
   "execution_count": null,
   "id": "e1d5a86b",
   "metadata": {},
   "outputs": [],
   "source": [
    "#2\n"
   ]
  },
  {
   "cell_type": "code",
   "execution_count": null,
   "id": "85d1fcba",
   "metadata": {},
   "outputs": [],
   "source": [
    "#3   "
   ]
  },
  {
   "cell_type": "markdown",
   "id": "be608ae9",
   "metadata": {},
   "source": [
    "------------------------------------------------------------------------------------------------------------------------------------------------------------------"
   ]
  },
  {
   "cell_type": "markdown",
   "id": "183e84a7",
   "metadata": {},
   "source": [
    "`📝 **Documentación del ejercicio por parte de la alumna**📝:`\n",
    "\n",
    "**\n",
    "**"
   ]
  },
  {
   "cell_type": "markdown",
   "id": "eb802401",
   "metadata": {},
   "source": [
    "------------------------------------------------------------------------------------------------------------------------------------------------------------------"
   ]
  },
  {
   "cell_type": "markdown",
   "id": "88811b2d",
   "metadata": {},
   "source": [
    "### ✨ Tarea 5: Creando Nuevas Perspectivas\n",
    "\n",
    "Crear nuevas columnas a partir de las existentes nos ayuda a enriquecer el análisis. Se pueden crear por asignación directa.\n",
    "\n",
    "**Instrucciones:**\n",
    "1.  Crea una nueva columna `Faltas_Totales` en `df_fenix` que sea la suma de `Numero_Caidas_Leves` y `Numero_Fallos_Tecnicos`.\n",
    "    * Antes de sumar, asegúrate de que los NaNs en estas dos columnas se traten como 0 para la suma, para no propagar NaNs innecesariamente si una de las dos es NaN pero la otra no.\n",
    "2.  Muestra las primeras filas de `df_fenix` con esta nueva columna y las columnas originales de faltas."
   ]
  },
  {
   "cell_type": "code",
   "execution_count": null,
   "id": "0888dd16",
   "metadata": {},
   "outputs": [],
   "source": []
  },
  {
   "cell_type": "markdown",
   "id": "e4aef9ff",
   "metadata": {},
   "source": [
    "------------------------------------------------------------------------------------------------------------------------------------------------------------------"
   ]
  },
  {
   "cell_type": "markdown",
   "id": "fb75d21d",
   "metadata": {},
   "source": [
    "`📝 **Documentación del ejercicio por parte de la alumna**📝:`\n",
    "\n",
    "**\n",
    "**"
   ]
  },
  {
   "cell_type": "markdown",
   "id": "10860e14",
   "metadata": {},
   "source": [
    "------------------------------------------------------------------------------------------------------------------------------------------------------------------"
   ]
  },
  {
   "cell_type": "markdown",
   "id": "10aeb013",
   "metadata": {},
   "source": [
    "### 🎯 Tarea 6: Análisis Enfocado en Patinadoras Clave - Primeras Pistas del \"Salseo\"\n",
    "\n",
    "Ahora, aplicaremos nuestras habilidades de filtrado para examinar más de cerca a **\"EstrellaFugaz77\"** y **\"NovaProdigy21\"**, como nos pidió \"La Centella\".\n",
    "\n",
    "**Instrucciones:**\n",
    "1.  Filtra `df_fenix` para obtener todos los registros de \"EstrellaFugaz77\" y guárdalos en `df_estrella`.\n",
    "2.  Sobre `df_estrella`, filtra las sesiones de `Tipo_Sesion` que sean \"Simulacro Competición\" o \"Clasificatoria Interna\". Calcula la `Puntuacion_Rendimiento` media de \"EstrellaFugaz77\" en estas sesiones.\n",
    "3.  Repite los puntos 1 y 2 para \"NovaProdigy21\", guardando en `df_nova` y calculando su media.\n",
    "4.  Compara las medias de ambas.\n",
    "5.  Muestra algunos comentarios únicos (no nulos y no vacíos) de `Comentario_Patinadora` y `Comentario_Entrenadora` para \"EstrellaFugaz77\".\n",
    "6.  Haz lo mismo para \"NovaProdigy21\"."
   ]
  },
  {
   "cell_type": "code",
   "execution_count": null,
   "id": "0dcc0f34",
   "metadata": {},
   "outputs": [],
   "source": [
    "\n",
    "#Analisis para Estrella Fugaz 77:\n",
    "\n",
    "\n",
    "#Analisis para Nova Prodigy 21:\n"
   ]
  },
  {
   "cell_type": "markdown",
   "id": "0d993b3b",
   "metadata": {},
   "source": [
    "------------------------------------------------------------------------------------------------------------------------------------------------------------------"
   ]
  },
  {
   "cell_type": "markdown",
   "id": "8caff3b3",
   "metadata": {},
   "source": [
    "`📝 **Documentación del ejercicio por parte de la alumna**📝:`\n",
    "\n",
    "**\n",
    "**"
   ]
  },
  {
   "cell_type": "markdown",
   "id": "85c66376",
   "metadata": {},
   "source": [
    "------------------------------------------------------------------------------------------------------------------------------------------------------------------"
   ]
  },
  {
   "cell_type": "markdown",
   "id": "6b22255e",
   "metadata": {},
   "source": [
    "### 📄 Tarea 7: Primer Informe de Inteligencia para \"La Centella\"\n",
    "\n",
    "**Resumen de Limpieza y Transformación:**\n",
    "* *(La alumna describe aquí los pasos clave: Carga del CSV `rendimiento_fenix.csv`. Realizada inspección general. Convertida la columna `Fecha_Sesion` a formato datetime. Columnas numéricas relevantes fueron procesadas para asegurar tipo numérico, manejando errores de conversión con `coerce`. Se creó la columna `Faltas_Totales`.)*\n",
    "\n",
    "**Observaciones Iniciales sobre \"EstrellaFugaz77\" y \"NovaProdigy21\":**\n",
    "* **Rendimiento Medio en Sesiones Clave (Simulacro Competición / Clasificatoria Interna):**\n",
    "    * \"EstrellaFugaz77\": *(Poner la media de Puntuacion_Rendimiento calculada para ella)*\n",
    "    * \"NovaProdigy21\": *(Poner la media de Puntuacion_Rendimiento calculada para ella)*\n",
    "    * *Comentario de la alumna: ¿Hay una diferencia notable a simple vista? ¿Alguna es más consistente o con mejor rendimiento en estas sesiones de presión?*\n",
    "* **Media de Faltas Totales (General):**\n",
    "    * \"EstrellaFugaz77\": *(Poner la media de Faltas_Totales calculada para ella, si la alumna lo hizo o considera que puede hacerlo, no se ha solicitado con anterioridad)*\n",
    "    * \"NovaProdigy21\": *(Poner la media de Faltas_Totales calculada para ella, si la alumna lo hizo o considera que puede hacerlo, no se ha solicitado con anterioridad)*\n",
    "    * *Comentario de la alumna: ¿Alguna parece cometer significativamente más faltas?*\n",
    "* **Comentarios Relevantes Encontrados:**\n",
    "    * Para \"EstrellaFugaz77\": *(Mencionar 1-2 comentarios de la patinadora o entrenadora que hayan llamado la atención durante la exploración. Ej: \"Se encontró el comentario 'Material no responde' y 'EF_Distraida' asociado a esta patinadora.\" o \"No se encontraron comentarios particularmente alarmantes, pero sí algunos sobre 'presión'\").*\n",
    "    * Para \"NovaProdigy21\": *(Mencionar 1-2 comentarios. Ej: \"Los comentarios de la entrenadora suelen ser positivos como 'NVA_Impecable', o son muy escuetos.\").*\n",
    "* **Próximas Preguntas/Sospechas para Investigar:**\n",
    "    * *(La alumna podría plantear: La diferencia de rendimiento observada, ¿es estadísticamente significativa o podría ser casualidad? Los comentarios sobre el material de \"EstrellaFugaz77\", ¿coinciden con sus sesiones de menor puntuación o más faltas? ¿Hay algún patrón en las fechas o tipos de sesión donde \"EstrellaFugaz77\" parece tener más problemas o comentarios negativos? ¿Es \"NovaProdigy21\" tan consistente como parece, o hay algo más?)*\n"
   ]
  },
  {
   "cell_type": "markdown",
   "id": "2e616b2b",
   "metadata": {},
   "source": [
    "------------------------------------------------------------------------------------------------------------------------------------------------------------------"
   ]
  },
  {
   "cell_type": "markdown",
   "id": "e6842f92",
   "metadata": {},
   "source": [
    "`📝 **Documentación del ejercicio por parte de la alumna**📝:`\n",
    "\n",
    "**\n",
    "**"
   ]
  },
  {
   "cell_type": "markdown",
   "id": "eddf5663",
   "metadata": {},
   "source": [
    "------------------------------------------------------------------------------------------------------------------------------------------------------------------"
   ]
  },
  {
   "cell_type": "markdown",
   "id": "29a7bce6",
   "metadata": {},
   "source": [
    "### 💾 Guardado del DataFrame Procesado\n",
    "\n",
    "Guardaremos nuestro DataFrame `df_fenix` (con la limpieza de tipos básicos y la nueva columna `Faltas_Totales`) para usarlo en el siguiente Notebook de EDA.\n",
    "\n",
    "**Instrucción:**\n",
    "* Guarda `df_fenix` como `rendimiento_fenix_pandas_limpio.csv`."
   ]
  },
  {
   "cell_type": "code",
   "execution_count": null,
   "id": "4e0a382e",
   "metadata": {},
   "outputs": [],
   "source": [
    "# Guardar el DataFrame para el siguiente notebook\n"
   ]
  },
  {
   "cell_type": "markdown",
   "id": "f95f6116",
   "metadata": {},
   "source": [
    "### ✅ Misión 02: ¡Primeras Pistas y Datos Organizados! 🐼💪\n",
    "\n",
    "¡Excelente trabajo con Pandas, analista!\n",
    "\n",
    "Has organizado los datos de \"Las Fénix\" y, lo más importante, has empezado a tirar del hilo de algunas dinámicas que \"La Centella\" tenía entre ceja y ceja. \n",
    "\n",
    "Ahora ella puede:\n",
    "\n",
    "* Ver un resumen claro del estado del equipo y los tipos de datos que manejamos.\n",
    "* Seleccionar rápidamente la información de patinadoras o sesiones específicas usando `loc` e `iloc`.\n",
    "* Filtrar datos para encontrar justo lo que necesita, incluyendo las primeras comparativas entre \"EstrellaFugaz77\" y \"NovaProdigy21\".\n",
    "* Analizar nuevas métricas como `Faltas_Totales`.\n",
    "\n",
    "Estos son los cimientos, y las primeras observaciones sobre nuestras patinadoras clave ya nos dan mucho en qué pensar. \n",
    "\n",
    "En la próxima misión (EDA), profundizaremos en estos patrones y buscaremos más respuestas.\n",
    "\n",
    "\n",
    "🔥🔥🔥🔥🔥🔥🔥🔥🔥🔥🔥🔥🔥🔥"
   ]
  }
 ],
 "metadata": {
  "kernelspec": {
   "display_name": "Python 3",
   "language": "python",
   "name": "python3"
  },
  "language_info": {
   "codemirror_mode": {
    "name": "ipython",
    "version": 3
   },
   "file_extension": ".py",
   "mimetype": "text/x-python",
   "name": "python",
   "nbconvert_exporter": "python",
   "pygments_lexer": "ipython3",
   "version": "3.13.2"
  }
 },
 "nbformat": 4,
 "nbformat_minor": 5
}
