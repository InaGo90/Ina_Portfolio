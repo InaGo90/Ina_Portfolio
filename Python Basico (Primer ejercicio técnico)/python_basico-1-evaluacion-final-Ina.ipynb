{
 "cells": [
  {
   "cell_type": "code",
   "execution_count": 17,
   "id": "63e5b1e4",
   "metadata": {},
   "outputs": [],
   "source": [
    "\"\"\"Desarrollo de la lógica de una Tienda Online para una pastelería que hace los encargos a través de su página web\"\"\"\n",
    "\n",
    "class Shop_online: #Aquí está la clase principal que pide el ejercicio\n",
    "\n",
    "    def __init__(self, name): #Constructor de la clase\n",
    "        \n",
    "        self.name = name\n",
    "        self.inventory = [] #En este atributo se irán incluyendo los productos de la pastelería, será una lista con diccionarios\n",
    "        self.customers = {} #En este diccionario se incluirán otros diccionarios donde estarán los datos básicos de las compras de los clientes (nombre, apellidos, email, compras realizadas... )\n",
    "        self.total_sales = 0.0 #Aquí iremos sumando la cantidad total de ventas, es un float desde el inicio para reflejar los céntimos de euro.\n",
    "\n",
    "    \"\"\" Agregamos un método para añadir productos al inventario o actualizar el stock. \"\"\"\n",
    "    \n",
    "    def add_product(self, name, price, stock): #Al ser un método de una clase, incluímos el self para que la clase lo reconozca.\n",
    "        for i in self.inventory: #i es el producto, lo iteramos en el inventario original\n",
    "            if i[\"name\"] == name: # queremos buscar si el nombre ya está en el inventario, si encuentra el mismo nombre \"se para\" \n",
    "                i[\"stock\"] += stock # al encontrar ese nombre, en el mismo diccionario de la lista, suma el stock que incluímos al que estaba.\n",
    "                return #cerramos el bucle\n",
    "        self.inventory.append({\"name\": name, \"price\": price, \"stock\": stock})\n",
    "\n",
    "    \"\"\"Agregamos un método para desplegar el inventario\"\"\"\n",
    "    \n",
    "    def display_inventory(self): #Queremos mostrar el inventario disponible\n",
    "        for i in self.inventory: #Iteramos sobre el inventario\n",
    "            print(f\"Nombre: {i[\"name\"]}, Precio: {i[\"price\"]}, Cantidad: {i[\"stock\"]}\")\n",
    "        #Creo que aqui no necesitamos un return, porque es meramente informativo y no vamos a guardar variables\n",
    "\n",
    "    \"\"\"Agregamos un método para buscar productos en el inventario\"\"\"\n",
    "\n",
    "    def search_product(self, name):  # Vamos a buscar producto en concreto dentro del inventario\n",
    "        for i in self.inventory:\n",
    "            if i['name'] == name:\n",
    "                return f\"Nombre: {i['name']}, Precio: {i['price']}, Cantidad: {i['stock']}\"  \n",
    "        return \"Ese articulo no está disponible en el stock\"\n",
    "            \n",
    "    \"\"\"Agregamos una función para modificar el stock\"\"\"\n",
    "    \n",
    "    def update_stock(self, name, stock):\n",
    "        for i in self.inventory: #i es el producto, lo iteramos en el inventario original\n",
    "            if i[\"name\"] == name: # queremos buscar si el nombre ya está en el inventario, si encuentra el mismo nombre \"se para\" \n",
    "                i[\"stock\"] += stock # al encontrar ese nombre, en el mismo diccionario de la lista, suma el stock que incluímos al que estaba.\n",
    "                print(f\"Stock de {i[\"name\"]} actualizado a {stock} correctamente\") #Stock es la variable que se crea tras la suma.\n",
    "                return #cerramos el bucle, necesario.\n",
    "        print(f\"El producto {[\"name\"]} no se encuentra en el\")\n",
    "\n",
    "    \"\"\"Implementamos una función para eliminar un producto del stock\"\"\"\n",
    "\n",
    "    def remove_product(self, name):\n",
    "        try:\n",
    "            for i in self.inventory:\n",
    "                if i[\"name\"] == name:\n",
    "                    self.inventory.remove(i) #Va a eliminar el producto que se corresponde con i[\"name\"]\n",
    "                    print(f\"El producto {name} se ha eliminado del inventario\")\n",
    "                    return\n",
    "        except:\n",
    "            print(f\"El producto {name} no se encuentra en el inventario\")\n",
    "\n",
    "        \"\"\"Implementamos una función para calcular el valor total de nuestro stock\"\"\"\n",
    "\n",
    "    def calc_invent_value(self):\n",
    "        stock_value = []\n",
    "        for i in self.inventory:\n",
    "            stock_value.append(i[\"price\"] * i[\"stock\"])\n",
    "        total_value = sum(stock_value)\n",
    "        print(f\"El valor actual de todo el stock es {total_value}\")\n",
    "        return total_value\n",
    "        \n",
    "    \"\"\"Función para realizar compras seleccionando los productos del inventario \"\"\"    \n",
    "    \n",
    "    def make_purchase(self):\n",
    "        shop_cart = {} #Creamos un diccionario para un carrito vacío en el que añadir los productos de la compra\n",
    "        display_inventory = True #Variable para controlar el despliegue del inventario y que no aparezca cada vez que se selecciona algo\n",
    "       \n",
    "        while True:\n",
    "            if display_inventory:\n",
    "                self.display_inventory() #Aparece el inventario la primera vez\n",
    "                display_inventory = False #No volver a mostrarlo automáticamente\n",
    "                print(\"\\n Nos alegramos mucho de tenerle aquí!\\n Puede revisar los productos del inventario y comenzar su compra\\n \")\n",
    "\n",
    "        #Creo una variable para el input en que se van a ingresar las compras, convierte todo a minusculas y elimina espacios que impidan una comparación correcta\n",
    "            shop = input(\"Ingrese el nombre del producto que quiere comprar,\\n si no quiere comprar nada más ingrese la palabra <salir>, \\n si quiere volver a ver el inventario escriba la palabra <inventario>\").lower().strip()\n",
    "            if shop == \"salir\":\n",
    "                break  #Deberia pararse la compra siempre que ingresen salir\n",
    "            elif shop == \"inventario\":\n",
    "                self.display_inventory() #Aparece el inventario porque lo piden\n",
    "                continue\n",
    "\n",
    "        #Creo variables para buscar el producto\n",
    "            found_product = False #Boleana con False indicar si el producto que ingresamos se encuentra o no\n",
    "            product_choice = None #Almacena producto\n",
    "\n",
    "        #Itero dentro del inventario para buscar el producto \"shop\"\n",
    "            for i in self.inventory: #For anidado\n",
    "                if i[\"name\"] == shop:\n",
    "                    found_product = True #Esto lo uso para marcar que se encontró el producto\n",
    "                    product_choice = i #guardamos el producto encontrado en la variable que habíamos creado vacía\n",
    "                    #break?\n",
    "\n",
    "        #Si no encuentra el producto en el inventario:\n",
    "            if not found_product:\n",
    "                print(\"\\n Error, producto no válido, por favor vuelva a empezar\")\n",
    "                continue #Esto nos manda al inicio del bucle\n",
    "\n",
    "            try: #Añadimos un control de errores por si en cantidad ingresan algo raro\n",
    "                quantity = int(input(f\"Ingrese la cantidad que quiere comprar\"))\n",
    "            except ValueError:\n",
    "                print(\"\\n Ha ingresado texto o un número no reconocido, ingrese siempre números enteros, por favor\")\n",
    "                continue #Vuelta al inicio del bucle\n",
    "\n",
    "        #Ahora nos aseguramos de que la cantidad que ingresan sea un número positivo\n",
    "            if quantity <= 0:\n",
    "                print(f\"\\n La cantidad {quantity} ingresada debe ser un error. Por favor ingrese una cantidad válida \\n Una cantidad positiva y dentro del stock disponible\\n\")\n",
    "                continue #Otra vez al bucle\n",
    "            \n",
    "        #En este punto del bucle el producto existe y tenemos una cantidad reconocida ingresada.\n",
    "\n",
    "            if quantity > product_choice[\"stock\"]:\n",
    "                print(f\"\\n No hay suficiente stock de {product_choice[\"name\"]}. Stock disponible {product_choice[\"stock\"]}\")\n",
    "                continue #Y vuelta al bucle otra vez.\n",
    "\n",
    "        #Si llegamos a este punto, tenemos el producto, una cantidad bien ingresada y suficiente stock.\n",
    "        \n",
    "            shop_cart[product_choice[\"name\"]] = quantity #Añadimos el producto al carro con su cantidad.\n",
    "            i[\"stock\"] -= quantity #Con esto pretendemos actualizar el inventario para que descuente la cantidad.\n",
    "\n",
    "        # Aquí hemos completado el proceso de solicitud y verificación de la compra o el usuario ha ingresado -salir-. ???\n",
    "        print(f\"\\n Estos son los productos incluídos en su carro: {shop_cart}\") #Le dejamos al cliente ver lo que ha escogido\n",
    "        total_price = 0\n",
    "        for product_name, quantity in shop_cart.items(): #En el carro deberiamos tener producto y cantidad.\n",
    "            for product in self.inventory: #Aqui abro un bucle anidado para encontrar el precio de ese producto en el inventario\n",
    "                if product_name.lower() == product[\"name\"]:\n",
    "                    unit_price = product[\"price\"] #variable para guardar precio por unidad\n",
    "                    calculation = unit_price * quantity\n",
    "                    total_price += calculation\n",
    "                    break\n",
    "        print(f\"\\n El precio total de su compra es {total_price}, gracias por elegir nuestro establecimiento\")\n"
   ]
  },
  {
   "cell_type": "code",
   "execution_count": 18,
   "id": "ee6fae07",
   "metadata": {},
   "outputs": [],
   "source": [
    "\"\"\"Creamos el atributo para Shop_Online -> Pasteleria O Pazo\"\"\"\n",
    "\n",
    "pasteleria1 = Shop_online(\"Pasteleria O Pazo\")"
   ]
  },
  {
   "cell_type": "code",
   "execution_count": 19,
   "id": "bc9c0c5d",
   "metadata": {},
   "outputs": [],
   "source": [
    "# Limpiamos inventario por si acaso quedó algo de pruebas anteriores\n",
    "pasteleria1.inventory.clear()"
   ]
  },
  {
   "cell_type": "code",
   "execution_count": 20,
   "id": "906fb46f",
   "metadata": {},
   "outputs": [],
   "source": [
    "\"\"\"Añadimos productos a la pastelería\"\"\"\n",
    "\n",
    "empanada1 = pasteleria1.add_product(\"empanada de carne\", 18.00, 30)\n",
    "empanada2 = pasteleria1.add_product(\"empanada de bonito\", 18.00, 30)\n",
    "empanada3 = pasteleria1.add_product(\"empanada de pollo con setas\", 20.00, 15)\n",
    "empanada4 = pasteleria1.add_product(\"empanada de zorza con tetilla\", 20.00, 15)\n",
    "empanada5 = pasteleria1.add_product(\"empanada de zamburiñas\", 25.00, 10)\n",
    "tarta1 = pasteleria1.add_product(\"tarta san marcos\", 10.50 , 30)\n",
    "tarta2 = pasteleria1.add_product(\"tarta tres chocolates\", 12.00, 20)\n",
    "tarta3 = pasteleria1.add_product(\"tarta fruta\", 15.00, 1)\n",
    "bolleria1 = pasteleria1.add_product(\"croissant\", 1.00, 80)\n",
    "bolleria2 = pasteleria1.add_product(\"napolitana\", 1.20 , 80)\n",
    "bolleria3 = pasteleria1.add_product(\"pastelitos\", 0.60, 200)\n"
   ]
  },
  {
   "cell_type": "code",
   "execution_count": 21,
   "id": "3a1dfc88",
   "metadata": {},
   "outputs": [
    {
     "name": "stdout",
     "output_type": "stream",
     "text": [
      "Nombre: empanada de carne, Precio: 18.0, Cantidad: 30\n",
      "Nombre: empanada de bonito, Precio: 18.0, Cantidad: 30\n",
      "Nombre: empanada de pollo con setas, Precio: 20.0, Cantidad: 15\n",
      "Nombre: empanada de zorza con tetilla, Precio: 20.0, Cantidad: 15\n",
      "Nombre: empanada de zamburiñas, Precio: 25.0, Cantidad: 10\n",
      "Nombre: tarta san marcos, Precio: 10.5, Cantidad: 30\n",
      "Nombre: tarta tres chocolates, Precio: 12.0, Cantidad: 20\n",
      "Nombre: tarta fruta, Precio: 15.0, Cantidad: 1\n",
      "Nombre: croissant, Precio: 1.0, Cantidad: 80\n",
      "Nombre: napolitana, Precio: 1.2, Cantidad: 80\n",
      "Nombre: pastelitos, Precio: 0.6, Cantidad: 200\n"
     ]
    }
   ],
   "source": [
    "\"\"\" Desplegamos inventario \"\"\"\n",
    "\n",
    "pasteleria1.display_inventory()"
   ]
  },
  {
   "cell_type": "code",
   "execution_count": 22,
   "id": "a92801c0",
   "metadata": {},
   "outputs": [
    {
     "name": "stdout",
     "output_type": "stream",
     "text": [
      "Ese articulo no está disponible en el stock\n"
     ]
    }
   ],
   "source": [
    "\"\"\" Buscamos un producto que no está en el inventario \"\"\"\n",
    "\n",
    "busqueda_erronea = pasteleria1.search_product(\"patata\")\n",
    "print(busqueda_erronea)"
   ]
  },
  {
   "cell_type": "code",
   "execution_count": 23,
   "id": "74aee1be",
   "metadata": {},
   "outputs": [
    {
     "name": "stdout",
     "output_type": "stream",
     "text": [
      "Nombre: empanada de carne, Precio: 18.0, Cantidad: 30\n"
     ]
    }
   ],
   "source": [
    "\"\"\" Buscamos un producto correctamente en el inventario \"\"\"\n",
    "\n",
    "busqueda_correcta = pasteleria1.search_product(\"empanada de carne\")\n",
    "print(busqueda_correcta)\n"
   ]
  },
  {
   "cell_type": "code",
   "execution_count": 24,
   "id": "a2962d8a",
   "metadata": {},
   "outputs": [
    {
     "name": "stdout",
     "output_type": "stream",
     "text": [
      "El producto ['name'] no se encuentra en el\n",
      "Stock de tarta fruta actualizado a 5 correctamente\n"
     ]
    }
   ],
   "source": [
    "\"\"\" Actualizamos el Stock de varios productos \"\"\"\n",
    "\n",
    "pasteleria1.update_stock(\"tarta de fruta\",5)\n",
    "pasteleria1.update_stock(\"tarta fruta\",5)\n"
   ]
  },
  {
   "cell_type": "code",
   "execution_count": 25,
   "id": "d79f5f50",
   "metadata": {},
   "outputs": [
    {
     "name": "stdout",
     "output_type": "stream",
     "text": [
      "El producto pastelitos se ha eliminado del inventario\n"
     ]
    }
   ],
   "source": [
    "\"\"\" Elimino un producto del Stock \"\"\"\n",
    "\n",
    "pasteleria1.remove_product(\"pastelitos\")"
   ]
  },
  {
   "cell_type": "code",
   "execution_count": 26,
   "id": "61965b11",
   "metadata": {},
   "outputs": [
    {
     "name": "stdout",
     "output_type": "stream",
     "text": [
      "Nombre: empanada de carne, Precio: 18.0, Cantidad: 30\n",
      "Nombre: empanada de bonito, Precio: 18.0, Cantidad: 30\n",
      "Nombre: empanada de pollo con setas, Precio: 20.0, Cantidad: 15\n",
      "Nombre: empanada de zorza con tetilla, Precio: 20.0, Cantidad: 15\n",
      "Nombre: empanada de zamburiñas, Precio: 25.0, Cantidad: 10\n",
      "Nombre: tarta san marcos, Precio: 10.5, Cantidad: 30\n",
      "Nombre: tarta tres chocolates, Precio: 12.0, Cantidad: 20\n",
      "Nombre: tarta fruta, Precio: 15.0, Cantidad: 6\n",
      "Nombre: croissant, Precio: 1.0, Cantidad: 80\n",
      "Nombre: napolitana, Precio: 1.2, Cantidad: 80\n"
     ]
    }
   ],
   "source": [
    "\"\"\"Comrpobamos el cambio de Tarta de Fruta y la eliminación de pastelitos en el inventario\"\"\"\n",
    "\n",
    "pasteleria1.display_inventory()"
   ]
  },
  {
   "cell_type": "code",
   "execution_count": 27,
   "id": "ad737e80",
   "metadata": {},
   "outputs": [
    {
     "name": "stdout",
     "output_type": "stream",
     "text": [
      "El valor actual de todo el stock es 2751.0\n"
     ]
    },
    {
     "data": {
      "text/plain": [
       "2751.0"
      ]
     },
     "execution_count": 27,
     "metadata": {},
     "output_type": "execute_result"
    }
   ],
   "source": [
    "\"\"\" Calculamos el valor total del inventario \"\"\"\n",
    "\n",
    "pasteleria1.calc_invent_value()"
   ]
  },
  {
   "cell_type": "code",
   "execution_count": 28,
   "id": "7efa6da7",
   "metadata": {},
   "outputs": [
    {
     "name": "stdout",
     "output_type": "stream",
     "text": [
      "Nombre: empanada de carne, Precio: 18.0, Cantidad: 30\n",
      "Nombre: empanada de bonito, Precio: 18.0, Cantidad: 30\n",
      "Nombre: empanada de pollo con setas, Precio: 20.0, Cantidad: 15\n",
      "Nombre: empanada de zorza con tetilla, Precio: 20.0, Cantidad: 15\n",
      "Nombre: empanada de zamburiñas, Precio: 25.0, Cantidad: 10\n",
      "Nombre: tarta san marcos, Precio: 10.5, Cantidad: 30\n",
      "Nombre: tarta tres chocolates, Precio: 12.0, Cantidad: 20\n",
      "Nombre: tarta fruta, Precio: 15.0, Cantidad: 6\n",
      "Nombre: croissant, Precio: 1.0, Cantidad: 80\n",
      "Nombre: napolitana, Precio: 1.2, Cantidad: 80\n",
      "\n",
      " Nos alegramos mucho de tenerle aquí!\n",
      " Puede revisar los productos del inventario y comenzar su compra\n",
      " \n",
      "\n",
      " Estos son los productos incluídos en su carro: {}\n",
      "\n",
      " El precio total de su compra es 0, gracias por elegir nuestro establecimiento\n"
     ]
    }
   ],
   "source": [
    "\"\"\" El cliente iba a realizar una compra, pero se acuerda de que necesita hacer otra cosa primero y decide ->salir<- \"\"\"\n",
    "\n",
    "pasteleria1.make_purchase()"
   ]
  },
  {
   "cell_type": "code",
   "execution_count": 29,
   "id": "170ce914",
   "metadata": {},
   "outputs": [
    {
     "name": "stdout",
     "output_type": "stream",
     "text": [
      "Nombre: empanada de carne, Precio: 18.0, Cantidad: 30\n",
      "Nombre: empanada de bonito, Precio: 18.0, Cantidad: 30\n",
      "Nombre: empanada de pollo con setas, Precio: 20.0, Cantidad: 15\n",
      "Nombre: empanada de zorza con tetilla, Precio: 20.0, Cantidad: 15\n",
      "Nombre: empanada de zamburiñas, Precio: 25.0, Cantidad: 10\n",
      "Nombre: tarta san marcos, Precio: 10.5, Cantidad: 30\n",
      "Nombre: tarta tres chocolates, Precio: 12.0, Cantidad: 20\n",
      "Nombre: tarta fruta, Precio: 15.0, Cantidad: 6\n",
      "Nombre: croissant, Precio: 1.0, Cantidad: 80\n",
      "Nombre: napolitana, Precio: 1.2, Cantidad: 80\n",
      "\n",
      " Nos alegramos mucho de tenerle aquí!\n",
      " Puede revisar los productos del inventario y comenzar su compra\n",
      " \n",
      "\n",
      " Error, producto no válido, por favor vuelva a empezar\n",
      "\n",
      " Estos son los productos incluídos en su carro: {'tarta fruta': 3, 'empanada de carne': 1, 'empanada de zamburiñas': 2, 'croissant': 10}\n",
      "\n",
      " El precio total de su compra es 123.0, gracias por elegir nuestro establecimiento\n"
     ]
    }
   ],
   "source": [
    "\"\"\" El cliente vuelve para realizar su compra \"\"\"\n",
    "\n",
    "pasteleria1.make_purchase()"
   ]
  },
  {
   "cell_type": "code",
   "execution_count": 30,
   "id": "05d5cc1e",
   "metadata": {},
   "outputs": [
    {
     "data": {
      "text/plain": [
       "' Desplegamos inventario '"
      ]
     },
     "execution_count": 30,
     "metadata": {},
     "output_type": "execute_result"
    }
   ],
   "source": [
    "\"\"\" Desplegamos inventario \"\"\""
   ]
  },
  {
   "cell_type": "code",
   "execution_count": 31,
   "id": "ed1121f0",
   "metadata": {},
   "outputs": [
    {
     "data": {
      "text/plain": [
       "' Realizamos una compra '"
      ]
     },
     "execution_count": 31,
     "metadata": {},
     "output_type": "execute_result"
    }
   ],
   "source": [
    "\"\"\" Realizamos una compra \"\"\""
   ]
  },
  {
   "cell_type": "code",
   "execution_count": 32,
   "id": "0b5a7c13",
   "metadata": {},
   "outputs": [
    {
     "data": {
      "text/plain": [
       "' Calculamos el valor total del inventario '"
      ]
     },
     "execution_count": 32,
     "metadata": {},
     "output_type": "execute_result"
    }
   ],
   "source": [
    "\"\"\" Calculamos el valor total del inventario \"\"\""
   ]
  }
 ],
 "metadata": {
  "kernelspec": {
   "display_name": "base",
   "language": "python",
   "name": "python3"
  },
  "language_info": {
   "codemirror_mode": {
    "name": "ipython",
    "version": 3
   },
   "file_extension": ".py",
   "mimetype": "text/x-python",
   "name": "python",
   "nbconvert_exporter": "python",
   "pygments_lexer": "ipython3",
   "version": "3.12.7"
  }
 },
 "nbformat": 4,
 "nbformat_minor": 5
}
